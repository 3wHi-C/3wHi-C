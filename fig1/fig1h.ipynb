{
 "cells": [
  {
   "cell_type": "code",
   "execution_count": null,
   "id": "349dfc92",
   "metadata": {},
   "outputs": [],
   "source": [
    "matrix=pd.read_csv('/mnt/disk6/3/3w_manuscript/三元热图/chr1_56M_60M.all.matrix3',header=None,sep='\\t')"
   ]
  },
  {
   "cell_type": "code",
   "execution_count": null,
   "id": "e8823064",
   "metadata": {},
   "outputs": [],
   "source": [
    "matrix[3] = matrix[3].apply(np.log2)\n",
    "mask = matrix[3] >= 5"
   ]
  },
  {
   "cell_type": "code",
   "execution_count": null,
   "id": "83fb28b6",
   "metadata": {},
   "outputs": [],
   "source": [
    "import numpy as np\n",
    "import matplotlib.pyplot as plt\n",
    "from mpl_toolkits.mplot3d import Axes3D"
   ]
  },
  {
   "cell_type": "code",
   "execution_count": null,
   "id": "5e9573b9",
   "metadata": {},
   "outputs": [],
   "source": [
    "font = {'family' : 'Arial',\n",
    "        'color'  : 'black',\n",
    "        'weight' : 'normal'\n",
    "        }\n",
    "font_path = font_manager.FontProperties(fname=font_manager.findfont(font_manager.FontProperties(family='Arial'))).get_name()\n",
    "plt.rcParams['font.family'] = font_path\n",
    "\n",
    "fig = plt.figure(figsize=(6,5))\n",
    "ax1 = plt.axes(projection='3d')\n",
    "#ax1.scatter3D(matrix[0],matrix[1],matrix[2],s=0.3,c=matrix[3],alpha=0.4,cmap=\"Reds\")\n",
    "ax1.scatter3D(matrix[0][mask], matrix[1][mask], matrix[2][mask], \n",
    "             s=1, c=matrix[3][mask], alpha=0.7, cmap=\"Reds\", depthshade=False)\n",
    "ax1.scatter3D(matrix[0][~mask], matrix[1][~mask], matrix[2][~mask], \n",
    "             s=0.3, c=matrix[3][~mask], alpha=0.2, cmap=\"Reds\", depthshade=False)\n",
    "ax1.set_xlabel('X')\n",
    "ax1.set_ylabel('Y')\n",
    "ax1.set_zlabel('Z')\n",
    "ax1.set_title('chr1')\n",
    "\n",
    "ax1.set_xlim(601,561)\n",
    "ax1.set_ylim(561,601)\n",
    "ax1.set_zlim(561,601)\n",
    "ax1.set_xticks([601,580,561])\n",
    "ax1.set_yticks([561,580,601])\n",
    "ax1.set_zticks([561,580,601])\n",
    "ax1.w_xaxis.set_pane_color((1.0, 1.0, 1.0, 1.0))\n",
    "ax1.w_yaxis.set_pane_color((1.0, 1.0, 1.0, 1.0))\n",
    "ax1.w_zaxis.set_pane_color((1.0, 1.0, 1.0, 1.0))\n",
    "color_bar = plt.colorbar(mappable=ax1.collections[0], ax=ax1, orientation='vertical',shrink=0.5,location = 'right',pad=0.12)\n",
    "color_bar.mappable.set_clim(0,15)\n",
    "color_bar.set_label('log2 (Raw count)')\n",
    "ax1.grid(False)\n",
    "ax1.view_init(elev=10, azim=10)\n",
    "#plt.savefig(\"/mnt/disk6/3/3w_manuscript/三元热图/3D_chr1_56M_60M_4.pdf\",dpi=300,format=\"pdf\")\n",
    "plt.show()\n"
   ]
  },
  {
   "cell_type": "code",
   "execution_count": null,
   "id": "e0cbbf08",
   "metadata": {},
   "outputs": [],
   "source": [
    "# import standard python libraries\n",
    "import numpy as np\n",
    "import matplotlib.pyplot as plt\n",
    "import seaborn as sns\n",
    "import pandas as pd\n",
    "import os\n",
    "import cooltools.lib.plotting\n",
    "import cooltools\n",
    "import cooler\n",
    "from matplotlib.colors import LogNorm"
   ]
  },
  {
   "cell_type": "code",
   "execution_count": null,
   "id": "7c11f4e9",
   "metadata": {},
   "outputs": [],
   "source": [
    "clr_100kb = cooler.Cooler('data.cool')\n",
    "start = 56000000\n",
    "end = 60000000\n",
    "region = ('chr1', start, end)\n",
    "extents = (start, end, end, start)\n",
    "norm = LogNorm(vmax=0.2, vmin=0.0001)\n",
    "data = clr_100kb.matrix(balance=True).fetch(region)"
   ]
  },
  {
   "cell_type": "code",
   "execution_count": null,
   "id": "1147287c",
   "metadata": {},
   "outputs": [],
   "source": [
    "DMSO = cooler.Cooler('/mnt/disk6/3/3w_manuscript/all_m3/split_3_2w/Total.split_3_2w.10000.cool')\n",
    "data2 = DMSO.matrix(balance=True).fetch(region)"
   ]
  },
  {
   "cell_type": "code",
   "execution_count": null,
   "id": "747c2ff5",
   "metadata": {},
   "outputs": [],
   "source": [
    "matrix = np.triu(data) + np.triu(data2,1).T\n",
    "np.fill_diagonal(matrix, 0)"
   ]
  },
  {
   "cell_type": "code",
   "execution_count": null,
   "id": "c09b7c74",
   "metadata": {},
   "outputs": [],
   "source": [
    "fruitpunch = sns.blend_palette(['white', 'red'], as_cmap=True)"
   ]
  },
  {
   "cell_type": "code",
   "execution_count": null,
   "id": "d7659eaf",
   "metadata": {},
   "outputs": [],
   "source": [
    "norm = LogNorm(vmax=0.2, vmin=0.0001)"
   ]
  },
  {
   "cell_type": "code",
   "execution_count": null,
   "id": "ccebe91e",
   "metadata": {},
   "outputs": [],
   "source": [
    "import matplotlib.pyplot as plt\n",
    "from matplotlib import font_manager\n",
    "font = {'family' : 'serif',\n",
    "        'color'  : 'black',\n",
    "        'weight' : 'normal',\n",
    "        'size'   : 16,\n",
    "        }\n",
    "font_path = font_manager.FontProperties(fname=font_manager.findfont(font_manager.FontProperties(family='serif'))).get_name()\n",
    "plt.rcParams['font.family'] = font_path\n",
    "f, ax = plt.subplots(\n",
    "    figsize=(8,7))\n",
    "im = ax.matshow(matrix,extent=(start/1000000, end/1000000, end/1000000, start/1000000), cmap='fall',norm=norm);\n",
    "cb=plt.colorbar(im ,fraction=0.03, pad=0.02)\n",
    "cb.ax.tick_params(labelsize=14)\n",
    "cb.set_label('Normalized counts',fontdict=font)\n",
    "#plt.colorbar(im ,fraction=0.03, pad=0.02, label='Normalized counts')\n",
    "ax.set_title(f'chr1:{start/1000000:,}Mb-{end/1000000:,}Mb', y=1,fontsize=16)\n",
    "ax.set_xticks([])\n",
    "ax.set_yticks([])\n",
    "ax.text(0.05, 0.05, '3wHi-C 2D', transform=ax.transAxes, fontsize=18, va='bottom', ha='left') #fontweight='bold' #3wHi-C\n",
    "ax.text(0.95, 0.95, 'in situ Hi-C', transform=ax.transAxes, fontsize=18, va='top', ha='right')\n",
    "#plt.savefig(\"/mnt/disk6/3/3w_manuscript/sub_boundary/method2_call_boundary/Total/3w_s_new/exmaple/2D_chr13_90.67M_91.08M.pdf\", dpi=300,format=\"pdf\")\n",
    "plt.show()\n",
    "#plt.savefig(\"/mnt/disk6/3/3w_manuscript/三元热图/insitu_VS_3w_matrix.pdf\", dpi=300,format=\"pdf\")\n",
    "\n"
   ]
  }
 ],
 "metadata": {
  "language_info": {
   "name": "python"
  }
 },
 "nbformat": 4,
 "nbformat_minor": 5
}
