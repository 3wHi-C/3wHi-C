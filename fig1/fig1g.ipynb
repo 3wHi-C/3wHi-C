{
 "cells": [
  {
   "cell_type": "code",
   "execution_count": null,
   "id": "b276d45a",
   "metadata": {},
   "outputs": [],
   "source": [
    "import pandas as pd\n",
    "import numpy as np\n",
    "from matplotlib.colors import LogNorm"
   ]
  },
  {
   "cell_type": "code",
   "execution_count": null,
   "id": "64c50c81",
   "metadata": {},
   "outputs": [],
   "source": [
    "file_path = \"three_way_100kb.matrix3\"\n",
    "df = pd.read_csv(file_path, sep='\\t', header=None)\n",
    "\n",
    "df['distance1'] = df[1] - df[0]\n",
    "df['distance2'] = df[2] - df[1]\n",
    "\n",
    "grouped = df.groupby(['distance1', 'distance2'])\n",
    "aggregated = grouped[3].agg(['sum','size']).reset_index()\n",
    "aggregated.columns = ['distance1','distance2','sum','count']\n",
    "aggregated['sum'] = aggregated['sum']/aggregated['sum'].sum()"
   ]
  },
  {
   "cell_type": "code",
   "execution_count": null,
   "id": "28959a09",
   "metadata": {},
   "outputs": [],
   "source": [
    "aggregated['distance1'] = (aggregated['distance1']+1) *100000\n",
    "aggregated['distance1'] = aggregated['distance1'].apply(np.log10)\n",
    "aggregated['distance2'] = (aggregated['distance2']+1)*100000\n",
    "aggregated['distance2'] = aggregated['distance2'].apply(np.log10)\n",
    "aggregated['sum'] = aggregated['sum'].apply(np.log10)"
   ]
  },
  {
   "cell_type": "code",
   "execution_count": null,
   "id": "08f70707",
   "metadata": {},
   "outputs": [],
   "source": [
    "aggregated2 = aggregated[['distance2','distance1','sum','count']]\n",
    "aggregated2.columns = ['distance1','distance2','sum','count']\n",
    "all = pd.concat([aggregated,aggregated2],axis=0,keys=['distance1','distance2','sum'])"
   ]
  },
  {
   "cell_type": "code",
   "execution_count": null,
   "id": "a1b8db3c",
   "metadata": {},
   "outputs": [],
   "source": [
    "from matplotlib import pyplot as plt\n",
    "from mpl_toolkits.mplot3d import Axes3D\n",
    "import matplotlib.pyplot as plt\n",
    "import numpy as np\n",
    "from matplotlib import font_manager\n",
    "\n",
    "font = {'family' : 'Arial',\n",
    "        'color'  : 'black',\n",
    "        'weight' : 'normal'\n",
    "        }\n",
    "cmap = plt.get_cmap('jet')\n",
    "font_path = font_manager.FontProperties(fname=font_manager.findfont(font_manager.FontProperties(family='Arial'))).get_name()\n",
    "plt.rcParams['font.family'] = font_path\n",
    "fig = plt.figure(figsize=(8,8))\n",
    "ax1 = plt.axes(projection='3d')\n",
    "ax1.scatter3D(all['distance1'],\n",
    "              all['distance2'],\n",
    "              all['sum'],\n",
    "              s=8,cmap=cmap,alpha=0.8,\n",
    "              c=all['sum'],\n",
    "              edgecolor='none',\n",
    "              depthshade=False)\n",
    "ax1.set_xlabel('log10(distance1)',fontsize=16, labelpad=15)\n",
    "ax1.set_ylabel('log10(distance2)',fontsize=16, labelpad=15)\n",
    "#ax1.set_zlabel('log10(Expected contact frequency)',fontsize=16, labelpad=15)\n",
    "ax1.w_xaxis.set_pane_color((1.0, 1.0, 1.0, 1.0))\n",
    "ax1.w_yaxis.set_pane_color((1.0, 1.0, 1.0, 1.0))\n",
    "ax1.w_zaxis.set_pane_color((1.0, 1.0, 1.0, 1.0))\n",
    "ax1.view_init(20,50)\n",
    "ax1.set_xlim(5,8.5)\n",
    "ax1.set_ylim(5,8.5)\n",
    "\n",
    "ax1.set_xticks([5,6,7,8])\n",
    "ax1.set_yticks([5,6,7,8])\n",
    "ax1.set_zticks([-2,-4,-6,-8])\n",
    "color_bar = plt.colorbar(mappable=ax1.collections[0],ax=ax1, orientation='vertical',shrink=0.5,pad=0.1)\n",
    "color_bar.mappable.set_clim(-10,1)\n",
    "color_bar.set_label('log10(Expected contact frequency)')\n",
    "plt.savefig(\"decay_100kb.tiff\", dpi=600,format=\"tiff\")\n",
    "plt.show()\n"
   ]
  }
 ],
 "metadata": {
  "language_info": {
   "name": "python"
  }
 },
 "nbformat": 4,
 "nbformat_minor": 5
}
